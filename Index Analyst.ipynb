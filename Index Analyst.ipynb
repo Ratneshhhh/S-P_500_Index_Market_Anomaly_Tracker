{
 "cells": [
  {
   "cell_type": "code",
   "execution_count": 2,
   "id": "9edc9f23",
   "metadata": {},
   "outputs": [
    {
     "name": "stdout",
     "output_type": "stream",
     "text": [
      "Collecting yfinance\n",
      "  Obtaining dependency information for yfinance from https://files.pythonhosted.org/packages/42/88/2127d45519d1d413f564d4be9e8d12857ba42c4d76f87aec2f78e99233e4/yfinance-0.2.55-py2.py3-none-any.whl.metadata\n",
      "  Downloading yfinance-0.2.55-py2.py3-none-any.whl.metadata (5.8 kB)\n",
      "Requirement already satisfied: pandas>=1.3.0 in c:\\users\\ratne\\anaconda3\\lib\\site-packages (from yfinance) (1.5.3)\n",
      "Requirement already satisfied: numpy>=1.16.5 in c:\\users\\ratne\\anaconda3\\lib\\site-packages (from yfinance) (1.24.3)\n",
      "Requirement already satisfied: requests>=2.31 in c:\\users\\ratne\\anaconda3\\lib\\site-packages (from yfinance) (2.31.0)\n",
      "Collecting multitasking>=0.0.7 (from yfinance)\n",
      "  Obtaining dependency information for multitasking>=0.0.7 from https://files.pythonhosted.org/packages/3e/8a/bb3160e76e844db9e69a413f055818969c8acade64e1a9ac5ce9dfdcf6c1/multitasking-0.0.11-py3-none-any.whl.metadata\n",
      "  Downloading multitasking-0.0.11-py3-none-any.whl.metadata (5.5 kB)\n",
      "Requirement already satisfied: platformdirs>=2.0.0 in c:\\users\\ratne\\anaconda3\\lib\\site-packages (from yfinance) (2.5.2)\n",
      "Requirement already satisfied: pytz>=2022.5 in c:\\users\\ratne\\anaconda3\\lib\\site-packages (from yfinance) (2022.7)\n",
      "Collecting frozendict>=2.3.4 (from yfinance)\n",
      "  Obtaining dependency information for frozendict>=2.3.4 from https://files.pythonhosted.org/packages/04/13/d9839089b900fa7b479cce495d62110cddc4bd5630a04d8469916c0e79c5/frozendict-2.4.6-py311-none-any.whl.metadata\n",
      "  Downloading frozendict-2.4.6-py311-none-any.whl.metadata (23 kB)\n",
      "Collecting peewee>=3.16.2 (from yfinance)\n",
      "  Downloading peewee-3.17.9.tar.gz (3.0 MB)\n",
      "     ---------------------------------------- 0.0/3.0 MB ? eta -:--:--\n",
      "     -------------- ------------------------- 1.1/3.0 MB 23.1 MB/s eta 0:00:01\n",
      "     ---------------------------------------  3.0/3.0 MB 38.6 MB/s eta 0:00:01\n",
      "     ---------------------------------------- 3.0/3.0 MB 27.7 MB/s eta 0:00:00\n",
      "  Installing build dependencies: started\n",
      "  Installing build dependencies: finished with status 'done'\n",
      "  Getting requirements to build wheel: started\n",
      "  Getting requirements to build wheel: finished with status 'done'\n",
      "  Preparing metadata (pyproject.toml): started\n",
      "  Preparing metadata (pyproject.toml): finished with status 'done'\n",
      "Requirement already satisfied: beautifulsoup4>=4.11.1 in c:\\users\\ratne\\anaconda3\\lib\\site-packages (from yfinance) (4.12.2)\n",
      "Requirement already satisfied: soupsieve>1.2 in c:\\users\\ratne\\anaconda3\\lib\\site-packages (from beautifulsoup4>=4.11.1->yfinance) (2.4)\n",
      "Requirement already satisfied: python-dateutil>=2.8.1 in c:\\users\\ratne\\anaconda3\\lib\\site-packages (from pandas>=1.3.0->yfinance) (2.8.2)\n",
      "Requirement already satisfied: charset-normalizer<4,>=2 in c:\\users\\ratne\\anaconda3\\lib\\site-packages (from requests>=2.31->yfinance) (2.0.4)\n",
      "Requirement already satisfied: idna<4,>=2.5 in c:\\users\\ratne\\anaconda3\\lib\\site-packages (from requests>=2.31->yfinance) (3.4)\n",
      "Requirement already satisfied: urllib3<3,>=1.21.1 in c:\\users\\ratne\\anaconda3\\lib\\site-packages (from requests>=2.31->yfinance) (1.26.16)\n",
      "Requirement already satisfied: certifi>=2017.4.17 in c:\\users\\ratne\\anaconda3\\lib\\site-packages (from requests>=2.31->yfinance) (2023.7.22)\n",
      "Requirement already satisfied: six>=1.5 in c:\\users\\ratne\\anaconda3\\lib\\site-packages (from python-dateutil>=2.8.1->pandas>=1.3.0->yfinance) (1.16.0)\n",
      "Downloading yfinance-0.2.55-py2.py3-none-any.whl (109 kB)\n",
      "   ---------------------------------------- 0.0/109.8 kB ? eta -:--:--\n",
      "   ---------------------------------------- 109.8/109.8 kB 6.6 MB/s eta 0:00:00\n",
      "Downloading frozendict-2.4.6-py311-none-any.whl (16 kB)\n",
      "Downloading multitasking-0.0.11-py3-none-any.whl (8.5 kB)\n",
      "Building wheels for collected packages: peewee\n",
      "  Building wheel for peewee (pyproject.toml): started\n",
      "  Building wheel for peewee (pyproject.toml): finished with status 'done'\n",
      "  Created wheel for peewee: filename=peewee-3.17.9-py3-none-any.whl size=139127 sha256=51d405a217deeabf96e2a125669a432ad64f00dce859ec3925a58fc7862429ce\n",
      "  Stored in directory: c:\\users\\ratne\\appdata\\local\\pip\\cache\\wheels\\f4\\14\\e4\\50c88c865833085aeb91e2bd40e3a683ff434806386b8ee7bc\n",
      "Successfully built peewee\n",
      "Installing collected packages: peewee, multitasking, frozendict, yfinance\n",
      "Successfully installed frozendict-2.4.6 multitasking-0.0.11 peewee-3.17.9 yfinance-0.2.55\n"
     ]
    }
   ],
   "source": [
    "!pip install yfinance\n",
    "import yfinance as yf\n",
    "import pandas as pd"
   ]
  },
  {
   "cell_type": "code",
   "execution_count": 4,
   "id": "bf9d395c",
   "metadata": {},
   "outputs": [
    {
     "name": "stderr",
     "output_type": "stream",
     "text": [
      "[*********************100%***********************]  1 of 1 completed"
     ]
    },
    {
     "name": "stdout",
     "output_type": "stream",
     "text": [
      "Price             Close         High          Low         Open      Volume\n",
      "Ticker            ^GSPC        ^GSPC        ^GSPC        ^GSPC       ^GSPC\n",
      "Date                                                                      \n",
      "2022-01-03  4796.560059  4796.640137  4758.169922  4778.140137  3831020000\n",
      "2022-01-04  4793.540039  4818.620117  4774.270020  4804.509766  4683170000\n",
      "2022-01-05  4700.580078  4797.700195  4699.439941  4787.990234  4887960000\n",
      "2022-01-06  4696.049805  4725.009766  4671.259766  4693.390137  4295280000\n",
      "2022-01-07  4677.029785  4707.950195  4662.740234  4697.660156  4181510000\n",
      "...                 ...          ...          ...          ...         ...\n",
      "2024-03-21  5241.529785  5261.100098  5240.660156  5253.430176  4207730000\n",
      "2024-03-22  5234.180176  5246.089844  5229.870117  5242.479980  3374700000\n",
      "2024-03-25  5218.189941  5229.089844  5216.089844  5219.520020  3331360000\n",
      "2024-03-26  5203.580078  5235.160156  5203.419922  5228.850098  3871790000\n",
      "2024-03-27  5248.490234  5249.259766  5213.919922  5226.310059  3850500000\n",
      "\n",
      "[561 rows x 5 columns]\n"
     ]
    },
    {
     "name": "stderr",
     "output_type": "stream",
     "text": [
      "\n"
     ]
    }
   ],
   "source": [
    "ticker = \"^GSPC\"\n",
    "start_date = \"2022-01-01\"\n",
    "end_date = \"2024-03-28\"\n",
    "\n",
    "df = yf.download(ticker, start = start_date, end = end_date)\n",
    "print(df)\n"
   ]
  },
  {
   "cell_type": "code",
   "execution_count": 51,
   "id": "69e27d24",
   "metadata": {},
   "outputs": [
    {
     "data": {
      "text/html": [
       "<div>\n",
       "<style scoped>\n",
       "    .dataframe tbody tr th:only-of-type {\n",
       "        vertical-align: middle;\n",
       "    }\n",
       "\n",
       "    .dataframe tbody tr th {\n",
       "        vertical-align: top;\n",
       "    }\n",
       "\n",
       "    .dataframe thead tr th {\n",
       "        text-align: left;\n",
       "    }\n",
       "\n",
       "    .dataframe thead tr:last-of-type th {\n",
       "        text-align: right;\n",
       "    }\n",
       "</style>\n",
       "<table border=\"1\" class=\"dataframe\">\n",
       "  <thead>\n",
       "    <tr>\n",
       "      <th>Price</th>\n",
       "      <th>Close</th>\n",
       "      <th>High</th>\n",
       "      <th>Low</th>\n",
       "      <th>Open</th>\n",
       "      <th>Volume</th>\n",
       "      <th>Return</th>\n",
       "      <th>Z-score</th>\n",
       "      <th>Anomaly</th>\n",
       "      <th>Anomaly_IQR</th>\n",
       "    </tr>\n",
       "    <tr>\n",
       "      <th>Ticker</th>\n",
       "      <th>^GSPC</th>\n",
       "      <th>^GSPC</th>\n",
       "      <th>^GSPC</th>\n",
       "      <th>^GSPC</th>\n",
       "      <th>^GSPC</th>\n",
       "      <th></th>\n",
       "      <th></th>\n",
       "      <th></th>\n",
       "      <th></th>\n",
       "    </tr>\n",
       "    <tr>\n",
       "      <th>Date</th>\n",
       "      <th></th>\n",
       "      <th></th>\n",
       "      <th></th>\n",
       "      <th></th>\n",
       "      <th></th>\n",
       "      <th></th>\n",
       "      <th></th>\n",
       "      <th></th>\n",
       "      <th></th>\n",
       "    </tr>\n",
       "  </thead>\n",
       "  <tbody>\n",
       "    <tr>\n",
       "      <th>2022-01-03</th>\n",
       "      <td>4796.560059</td>\n",
       "      <td>4796.640137</td>\n",
       "      <td>4758.169922</td>\n",
       "      <td>4778.140137</td>\n",
       "      <td>3831020000</td>\n",
       "      <td>NaN</td>\n",
       "      <td>NaN</td>\n",
       "      <td>0</td>\n",
       "      <td>0</td>\n",
       "    </tr>\n",
       "    <tr>\n",
       "      <th>2022-01-04</th>\n",
       "      <td>4793.540039</td>\n",
       "      <td>4818.620117</td>\n",
       "      <td>4774.270020</td>\n",
       "      <td>4804.509766</td>\n",
       "      <td>4683170000</td>\n",
       "      <td>-0.000630</td>\n",
       "      <td>-0.072737</td>\n",
       "      <td>0</td>\n",
       "      <td>0</td>\n",
       "    </tr>\n",
       "    <tr>\n",
       "      <th>2022-01-05</th>\n",
       "      <td>4700.580078</td>\n",
       "      <td>4797.700195</td>\n",
       "      <td>4699.439941</td>\n",
       "      <td>4787.990234</td>\n",
       "      <td>4887960000</td>\n",
       "      <td>-0.019393</td>\n",
       "      <td>-1.659141</td>\n",
       "      <td>0</td>\n",
       "      <td>0</td>\n",
       "    </tr>\n",
       "    <tr>\n",
       "      <th>2022-01-06</th>\n",
       "      <td>4696.049805</td>\n",
       "      <td>4725.009766</td>\n",
       "      <td>4671.259766</td>\n",
       "      <td>4693.390137</td>\n",
       "      <td>4295280000</td>\n",
       "      <td>-0.000964</td>\n",
       "      <td>-0.100989</td>\n",
       "      <td>0</td>\n",
       "      <td>0</td>\n",
       "    </tr>\n",
       "    <tr>\n",
       "      <th>2022-01-07</th>\n",
       "      <td>4677.029785</td>\n",
       "      <td>4707.950195</td>\n",
       "      <td>4662.740234</td>\n",
       "      <td>4697.660156</td>\n",
       "      <td>4181510000</td>\n",
       "      <td>-0.004050</td>\n",
       "      <td>-0.361945</td>\n",
       "      <td>0</td>\n",
       "      <td>0</td>\n",
       "    </tr>\n",
       "  </tbody>\n",
       "</table>\n",
       "</div>"
      ],
      "text/plain": [
       "Price             Close         High          Low         Open      Volume  \\\n",
       "Ticker            ^GSPC        ^GSPC        ^GSPC        ^GSPC       ^GSPC   \n",
       "Date                                                                         \n",
       "2022-01-03  4796.560059  4796.640137  4758.169922  4778.140137  3831020000   \n",
       "2022-01-04  4793.540039  4818.620117  4774.270020  4804.509766  4683170000   \n",
       "2022-01-05  4700.580078  4797.700195  4699.439941  4787.990234  4887960000   \n",
       "2022-01-06  4696.049805  4725.009766  4671.259766  4693.390137  4295280000   \n",
       "2022-01-07  4677.029785  4707.950195  4662.740234  4697.660156  4181510000   \n",
       "\n",
       "Price         Return   Z-score Anomaly Anomaly_IQR  \n",
       "Ticker                                              \n",
       "Date                                                \n",
       "2022-01-03       NaN       NaN       0           0  \n",
       "2022-01-04 -0.000630 -0.072737       0           0  \n",
       "2022-01-05 -0.019393 -1.659141       0           0  \n",
       "2022-01-06 -0.000964 -0.100989       0           0  \n",
       "2022-01-07 -0.004050 -0.361945       0           0  "
      ]
     },
     "execution_count": 51,
     "metadata": {},
     "output_type": "execute_result"
    }
   ],
   "source": [
    "df.head()"
   ]
  },
  {
   "cell_type": "code",
   "execution_count": 6,
   "id": "f6a97bdf",
   "metadata": {},
   "outputs": [
    {
     "data": {
      "text/plain": [
       "Price   Ticker\n",
       "Close   ^GSPC     0\n",
       "High    ^GSPC     0\n",
       "Low     ^GSPC     0\n",
       "Open    ^GSPC     0\n",
       "Volume  ^GSPC     0\n",
       "dtype: int64"
      ]
     },
     "execution_count": 6,
     "metadata": {},
     "output_type": "execute_result"
    }
   ],
   "source": [
    "df.isnull().sum()"
   ]
  },
  {
   "cell_type": "code",
   "execution_count": 13,
   "id": "40975de6",
   "metadata": {},
   "outputs": [],
   "source": [
    "df['Return'] = df[('Close','^GSPC')].pct_change()"
   ]
  },
  {
   "cell_type": "code",
   "execution_count": 10,
   "id": "bebfdd3b",
   "metadata": {},
   "outputs": [
    {
     "data": {
      "text/plain": [
       "MultiIndex([( 'Close', '^GSPC'),\n",
       "            (  'High', '^GSPC'),\n",
       "            (   'Low', '^GSPC'),\n",
       "            (  'Open', '^GSPC'),\n",
       "            ('Volume', '^GSPC')],\n",
       "           names=['Price', 'Ticker'])"
      ]
     },
     "execution_count": 10,
     "metadata": {},
     "output_type": "execute_result"
    }
   ],
   "source": [
    "df.columns"
   ]
  },
  {
   "cell_type": "code",
   "execution_count": 16,
   "id": "7b228039",
   "metadata": {},
   "outputs": [
    {
     "data": {
      "text/plain": [
       "Date\n",
       "2022-01-03         NaN\n",
       "2022-01-04   -0.000630\n",
       "2022-01-05   -0.019393\n",
       "2022-01-06   -0.000964\n",
       "2022-01-07   -0.004050\n",
       "Name: Return, dtype: float64"
      ]
     },
     "execution_count": 16,
     "metadata": {},
     "output_type": "execute_result"
    }
   ],
   "source": [
    "df['Return'].head()"
   ]
  },
  {
   "cell_type": "markdown",
   "id": "708b964d",
   "metadata": {},
   "source": [
    "### Implementing Z-Score Method for Anomaly Detection"
   ]
  },
  {
   "cell_type": "code",
   "execution_count": 28,
   "id": "cf18c851",
   "metadata": {},
   "outputs": [],
   "source": [
    "df['Z-score'] = (df['Return'] - df['Return'].mean()) / df['Return'].std()\n",
    "\n",
    "thresold = 3\n",
    "\n",
    "df['Anomaly'] = df['Z-score'].apply(lambda x: 1 if abs(x)> thresold else 0)\n"
   ]
  },
  {
   "cell_type": "code",
   "execution_count": 30,
   "id": "b2f01ce6",
   "metadata": {},
   "outputs": [
    {
     "name": "stdout",
     "output_type": "stream",
     "text": [
      "Number of Anomaly : 6\n"
     ]
    }
   ],
   "source": [
    "print('Number of Anomaly :', df['Anomaly'].sum())"
   ]
  },
  {
   "cell_type": "code",
   "execution_count": 39,
   "id": "80706080",
   "metadata": {},
   "outputs": [
    {
     "name": "stdout",
     "output_type": "stream",
     "text": [
      "Anomalous days:\n",
      " Price             Close         High          Low         Open      Volume  \\\n",
      "Ticker            ^GSPC        ^GSPC        ^GSPC        ^GSPC       ^GSPC   \n",
      "Date                                                                         \n",
      "2022-04-29  4131.930176  4269.680176  4124.279785  4253.750000  5084030000   \n",
      "2022-05-05  4146.870117  4270.430176  4106.009766  4270.430176  5077030000   \n",
      "2022-05-18  3923.679932  4051.979980  3911.909912  4051.979980  5103220000   \n",
      "2022-06-13  3749.629883  3838.149902  3734.300049  3838.149902  5636890000   \n",
      "2022-09-13  3932.689941  4037.120117  3921.280029  4037.120117  4224550000   \n",
      "2022-11-10  3956.370117  3958.330078  3859.889893  3859.889893  5781260000   \n",
      "\n",
      "Price         Return   Z-score Anomaly  \n",
      "Ticker                                  \n",
      "Date                                    \n",
      "2022-04-29 -0.036285 -3.087321       1  \n",
      "2022-05-05 -0.035650 -3.033650       1  \n",
      "2022-05-18 -0.040395 -3.434882       1  \n",
      "2022-06-13 -0.038768 -3.297335       1  \n",
      "2022-09-13 -0.043237 -3.675115       1  \n",
      "2022-11-10  0.055434  4.667426       1  \n"
     ]
    }
   ],
   "source": [
    "print('Anomalous days:\\n', df[df['Anomaly'] ==1])"
   ]
  },
  {
   "cell_type": "markdown",
   "id": "6269b5bb",
   "metadata": {},
   "source": [
    "## IQR"
   ]
  },
  {
   "cell_type": "code",
   "execution_count": 42,
   "id": "a56c0707",
   "metadata": {},
   "outputs": [],
   "source": [
    "Q1 = df['Return'].quantile(0.25)\n",
    "Q3 = df['Return'].quantile(0.75)\n",
    "\n",
    "IQR = Q3-Q1\n",
    "\n",
    "lower_bound = Q1 - 1.5*IQR\n",
    "upper_bound = Q3 + 1.5*IQR\n",
    "\n",
    "df['Anomaly_IQR'] = df['Return'].apply(lambda x: 1 if x<lower_bound or x> upper_bound else 0)"
   ]
  },
  {
   "cell_type": "code",
   "execution_count": 43,
   "id": "72cf4553",
   "metadata": {},
   "outputs": [
    {
     "data": {
      "text/plain": [
       "18"
      ]
     },
     "execution_count": 43,
     "metadata": {},
     "output_type": "execute_result"
    }
   ],
   "source": [
    "df['Anomaly_IQR'].sum()"
   ]
  },
  {
   "cell_type": "code",
   "execution_count": 48,
   "id": "cfcdf424",
   "metadata": {},
   "outputs": [
    {
     "name": "stdout",
     "output_type": "stream",
     "text": [
      "Anomalous day (IQR Method) :\n",
      " Price             Close         High          Low         Open      Volume  \\\n",
      "Ticker            ^GSPC        ^GSPC        ^GSPC        ^GSPC       ^GSPC   \n",
      "Date                                                                         \n",
      "2022-03-07  4201.089844  4327.009766  4199.850098  4327.009766  6940470000   \n",
      "2022-04-22  4271.779785  4385.830078  4267.620117  4385.830078  4651940000   \n",
      "2022-04-26  4175.200195  4278.140137  4175.040039  4278.140137  4689970000   \n",
      "2022-04-29  4131.930176  4269.680176  4124.279785  4253.750000  5084030000   \n",
      "2022-05-04  4300.169922  4307.660156  4148.910156  4181.180176  5136360000   \n",
      "2022-05-05  4146.870117  4270.430176  4106.009766  4270.430176  5077030000   \n",
      "2022-05-09  3991.239990  4081.270020  3975.479980  4081.270020  5954520000   \n",
      "2022-05-18  3923.679932  4051.979980  3911.909912  4051.979980  5103220000   \n",
      "2022-06-10  3900.860107  3974.389893  3900.159912  3974.389893  4889640000   \n",
      "2022-06-13  3749.629883  3838.149902  3734.300049  3838.149902  5636890000   \n",
      "2022-06-16  3666.770020  3728.179932  3639.770020  3728.179932  5644930000   \n",
      "2022-06-24  3911.739990  3913.649902  3821.750000  3821.750000  8120260000   \n",
      "2022-08-26  4057.659912  4203.040039  4057.659912  4198.740234  3832750000   \n",
      "2022-09-13  3932.689941  4037.120117  3921.280029  4037.120117  4224550000   \n",
      "2022-10-04  3790.929932  3791.919922  3726.459961  3726.459961  5146580000   \n",
      "2022-10-07  3639.659912  3706.739990  3620.729980  3706.739990  4449660000   \n",
      "2022-11-10  3956.370117  3958.330078  3859.889893  3859.889893  5781260000   \n",
      "2022-11-30  4080.110107  4080.110107  3938.580078  3957.179932  6579360000   \n",
      "\n",
      "Price         Return   Z-score Anomaly Anomaly_IQR  \n",
      "Ticker                                              \n",
      "Date                                                \n",
      "2022-03-07 -0.029518 -2.515234       0           1  \n",
      "2022-04-22 -0.027740 -2.364897       0           1  \n",
      "2022-04-26 -0.028146 -2.399245       0           1  \n",
      "2022-04-29 -0.036285 -3.087321       1           1  \n",
      "2022-05-04  0.029862  2.505334       0           1  \n",
      "2022-05-05 -0.035650 -3.033650       1           1  \n",
      "2022-05-09 -0.032037 -2.728208       0           1  \n",
      "2022-05-18 -0.040395 -3.434882       1           1  \n",
      "2022-06-10 -0.029110 -2.480750       0           1  \n",
      "2022-06-13 -0.038768 -3.297335       1           1  \n",
      "2022-06-16 -0.032512 -2.768356       0           1  \n",
      "2022-06-24  0.030563  2.564592       0           1  \n",
      "2022-08-26 -0.033688 -2.867794       0           1  \n",
      "2022-09-13 -0.043237 -3.675115       1           1  \n",
      "2022-10-04  0.030584  2.566318       0           1  \n",
      "2022-10-07 -0.028004 -2.387181       0           1  \n",
      "2022-11-10  0.055434  4.667426       1           1  \n",
      "2022-11-30  0.030948  2.597108       0           1  \n"
     ]
    }
   ],
   "source": [
    "print('Anomalous day (IQR Method) :\\n', df[df['Anomaly_IQR'] == 1])"
   ]
  },
  {
   "cell_type": "code",
   "execution_count": 53,
   "id": "affa3336",
   "metadata": {},
   "outputs": [
    {
     "name": "stdout",
     "output_type": "stream",
     "text": [
      "<class 'pandas.core.frame.DataFrame'>\n",
      "DatetimeIndex: 561 entries, 2022-01-03 to 2024-03-27\n",
      "Data columns (total 9 columns):\n",
      " #   Column           Non-Null Count  Dtype  \n",
      "---  ------           --------------  -----  \n",
      " 0   (Close, ^GSPC)   561 non-null    float64\n",
      " 1   (High, ^GSPC)    561 non-null    float64\n",
      " 2   (Low, ^GSPC)     561 non-null    float64\n",
      " 3   (Open, ^GSPC)    561 non-null    float64\n",
      " 4   (Volume, ^GSPC)  561 non-null    int64  \n",
      " 5   (Return, )       560 non-null    float64\n",
      " 6   (Z-score, )      560 non-null    float64\n",
      " 7   (Anomaly, )      561 non-null    int64  \n",
      " 8   (Anomaly_IQR, )  561 non-null    int64  \n",
      "dtypes: float64(6), int64(3)\n",
      "memory usage: 43.8 KB\n"
     ]
    }
   ],
   "source": [
    "df.info()\n"
   ]
  },
  {
   "cell_type": "code",
   "execution_count": 57,
   "id": "fd1dcb02",
   "metadata": {},
   "outputs": [
    {
     "data": {
      "text/html": [
       "<div>\n",
       "<style scoped>\n",
       "    .dataframe tbody tr th:only-of-type {\n",
       "        vertical-align: middle;\n",
       "    }\n",
       "\n",
       "    .dataframe tbody tr th {\n",
       "        vertical-align: top;\n",
       "    }\n",
       "\n",
       "    .dataframe thead tr th {\n",
       "        text-align: left;\n",
       "    }\n",
       "\n",
       "    .dataframe thead tr:last-of-type th {\n",
       "        text-align: right;\n",
       "    }\n",
       "</style>\n",
       "<table border=\"1\" class=\"dataframe\">\n",
       "  <thead>\n",
       "    <tr>\n",
       "      <th>Price</th>\n",
       "      <th>Close</th>\n",
       "      <th>High</th>\n",
       "      <th>Low</th>\n",
       "      <th>Open</th>\n",
       "      <th>Volume</th>\n",
       "      <th>Return</th>\n",
       "      <th>Z-score</th>\n",
       "      <th>Anomaly</th>\n",
       "      <th>Anomaly_IQR</th>\n",
       "    </tr>\n",
       "    <tr>\n",
       "      <th>Ticker</th>\n",
       "      <th>^GSPC</th>\n",
       "      <th>^GSPC</th>\n",
       "      <th>^GSPC</th>\n",
       "      <th>^GSPC</th>\n",
       "      <th>^GSPC</th>\n",
       "      <th></th>\n",
       "      <th></th>\n",
       "      <th></th>\n",
       "      <th></th>\n",
       "    </tr>\n",
       "    <tr>\n",
       "      <th>Date</th>\n",
       "      <th></th>\n",
       "      <th></th>\n",
       "      <th></th>\n",
       "      <th></th>\n",
       "      <th></th>\n",
       "      <th></th>\n",
       "      <th></th>\n",
       "      <th></th>\n",
       "      <th></th>\n",
       "    </tr>\n",
       "  </thead>\n",
       "  <tbody>\n",
       "    <tr>\n",
       "      <th>2022-01-03</th>\n",
       "      <td>4796.560059</td>\n",
       "      <td>4796.640137</td>\n",
       "      <td>4758.169922</td>\n",
       "      <td>4778.140137</td>\n",
       "      <td>3831020000</td>\n",
       "      <td>NaN</td>\n",
       "      <td>NaN</td>\n",
       "      <td>0</td>\n",
       "      <td>0</td>\n",
       "    </tr>\n",
       "    <tr>\n",
       "      <th>2022-01-04</th>\n",
       "      <td>4793.540039</td>\n",
       "      <td>4818.620117</td>\n",
       "      <td>4774.270020</td>\n",
       "      <td>4804.509766</td>\n",
       "      <td>4683170000</td>\n",
       "      <td>-0.000630</td>\n",
       "      <td>-0.072737</td>\n",
       "      <td>0</td>\n",
       "      <td>0</td>\n",
       "    </tr>\n",
       "    <tr>\n",
       "      <th>2022-01-05</th>\n",
       "      <td>4700.580078</td>\n",
       "      <td>4797.700195</td>\n",
       "      <td>4699.439941</td>\n",
       "      <td>4787.990234</td>\n",
       "      <td>4887960000</td>\n",
       "      <td>-0.019393</td>\n",
       "      <td>-1.659141</td>\n",
       "      <td>0</td>\n",
       "      <td>0</td>\n",
       "    </tr>\n",
       "    <tr>\n",
       "      <th>2022-01-06</th>\n",
       "      <td>4696.049805</td>\n",
       "      <td>4725.009766</td>\n",
       "      <td>4671.259766</td>\n",
       "      <td>4693.390137</td>\n",
       "      <td>4295280000</td>\n",
       "      <td>-0.000964</td>\n",
       "      <td>-0.100989</td>\n",
       "      <td>0</td>\n",
       "      <td>0</td>\n",
       "    </tr>\n",
       "    <tr>\n",
       "      <th>2022-01-07</th>\n",
       "      <td>4677.029785</td>\n",
       "      <td>4707.950195</td>\n",
       "      <td>4662.740234</td>\n",
       "      <td>4697.660156</td>\n",
       "      <td>4181510000</td>\n",
       "      <td>-0.004050</td>\n",
       "      <td>-0.361945</td>\n",
       "      <td>0</td>\n",
       "      <td>0</td>\n",
       "    </tr>\n",
       "    <tr>\n",
       "      <th>...</th>\n",
       "      <td>...</td>\n",
       "      <td>...</td>\n",
       "      <td>...</td>\n",
       "      <td>...</td>\n",
       "      <td>...</td>\n",
       "      <td>...</td>\n",
       "      <td>...</td>\n",
       "      <td>...</td>\n",
       "      <td>...</td>\n",
       "    </tr>\n",
       "    <tr>\n",
       "      <th>2024-03-21</th>\n",
       "      <td>5241.529785</td>\n",
       "      <td>5261.100098</td>\n",
       "      <td>5240.660156</td>\n",
       "      <td>5253.430176</td>\n",
       "      <td>4207730000</td>\n",
       "      <td>0.003237</td>\n",
       "      <td>0.254143</td>\n",
       "      <td>0</td>\n",
       "      <td>0</td>\n",
       "    </tr>\n",
       "    <tr>\n",
       "      <th>2024-03-22</th>\n",
       "      <td>5234.180176</td>\n",
       "      <td>5246.089844</td>\n",
       "      <td>5229.870117</td>\n",
       "      <td>5242.479980</td>\n",
       "      <td>3374700000</td>\n",
       "      <td>-0.001402</td>\n",
       "      <td>-0.138057</td>\n",
       "      <td>0</td>\n",
       "      <td>0</td>\n",
       "    </tr>\n",
       "    <tr>\n",
       "      <th>2024-03-25</th>\n",
       "      <td>5218.189941</td>\n",
       "      <td>5229.089844</td>\n",
       "      <td>5216.089844</td>\n",
       "      <td>5219.520020</td>\n",
       "      <td>3331360000</td>\n",
       "      <td>-0.003055</td>\n",
       "      <td>-0.277797</td>\n",
       "      <td>0</td>\n",
       "      <td>0</td>\n",
       "    </tr>\n",
       "    <tr>\n",
       "      <th>2024-03-26</th>\n",
       "      <td>5203.580078</td>\n",
       "      <td>5235.160156</td>\n",
       "      <td>5203.419922</td>\n",
       "      <td>5228.850098</td>\n",
       "      <td>3871790000</td>\n",
       "      <td>-0.002800</td>\n",
       "      <td>-0.256223</td>\n",
       "      <td>0</td>\n",
       "      <td>0</td>\n",
       "    </tr>\n",
       "    <tr>\n",
       "      <th>2024-03-27</th>\n",
       "      <td>5248.490234</td>\n",
       "      <td>5249.259766</td>\n",
       "      <td>5213.919922</td>\n",
       "      <td>5226.310059</td>\n",
       "      <td>3850500000</td>\n",
       "      <td>0.008631</td>\n",
       "      <td>0.710207</td>\n",
       "      <td>0</td>\n",
       "      <td>0</td>\n",
       "    </tr>\n",
       "  </tbody>\n",
       "</table>\n",
       "<p>561 rows × 9 columns</p>\n",
       "</div>"
      ],
      "text/plain": [
       "Price             Close         High          Low         Open      Volume  \\\n",
       "Ticker            ^GSPC        ^GSPC        ^GSPC        ^GSPC       ^GSPC   \n",
       "Date                                                                         \n",
       "2022-01-03  4796.560059  4796.640137  4758.169922  4778.140137  3831020000   \n",
       "2022-01-04  4793.540039  4818.620117  4774.270020  4804.509766  4683170000   \n",
       "2022-01-05  4700.580078  4797.700195  4699.439941  4787.990234  4887960000   \n",
       "2022-01-06  4696.049805  4725.009766  4671.259766  4693.390137  4295280000   \n",
       "2022-01-07  4677.029785  4707.950195  4662.740234  4697.660156  4181510000   \n",
       "...                 ...          ...          ...          ...         ...   \n",
       "2024-03-21  5241.529785  5261.100098  5240.660156  5253.430176  4207730000   \n",
       "2024-03-22  5234.180176  5246.089844  5229.870117  5242.479980  3374700000   \n",
       "2024-03-25  5218.189941  5229.089844  5216.089844  5219.520020  3331360000   \n",
       "2024-03-26  5203.580078  5235.160156  5203.419922  5228.850098  3871790000   \n",
       "2024-03-27  5248.490234  5249.259766  5213.919922  5226.310059  3850500000   \n",
       "\n",
       "Price         Return   Z-score Anomaly Anomaly_IQR  \n",
       "Ticker                                              \n",
       "Date                                                \n",
       "2022-01-03       NaN       NaN       0           0  \n",
       "2022-01-04 -0.000630 -0.072737       0           0  \n",
       "2022-01-05 -0.019393 -1.659141       0           0  \n",
       "2022-01-06 -0.000964 -0.100989       0           0  \n",
       "2022-01-07 -0.004050 -0.361945       0           0  \n",
       "...              ...       ...     ...         ...  \n",
       "2024-03-21  0.003237  0.254143       0           0  \n",
       "2024-03-22 -0.001402 -0.138057       0           0  \n",
       "2024-03-25 -0.003055 -0.277797       0           0  \n",
       "2024-03-26 -0.002800 -0.256223       0           0  \n",
       "2024-03-27  0.008631  0.710207       0           0  \n",
       "\n",
       "[561 rows x 9 columns]"
      ]
     },
     "execution_count": 57,
     "metadata": {},
     "output_type": "execute_result"
    }
   ],
   "source": [
    "df.head(561)"
   ]
  },
  {
   "cell_type": "code",
   "execution_count": null,
   "id": "08faa435",
   "metadata": {},
   "outputs": [],
   "source": []
  }
 ],
 "metadata": {
  "kernelspec": {
   "display_name": "Python 3 (ipykernel)",
   "language": "python",
   "name": "python3"
  },
  "language_info": {
   "codemirror_mode": {
    "name": "ipython",
    "version": 3
   },
   "file_extension": ".py",
   "mimetype": "text/x-python",
   "name": "python",
   "nbconvert_exporter": "python",
   "pygments_lexer": "ipython3",
   "version": "3.11.4"
  }
 },
 "nbformat": 4,
 "nbformat_minor": 5
}
